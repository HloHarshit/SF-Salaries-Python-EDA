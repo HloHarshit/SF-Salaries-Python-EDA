{
 "cells": [
  {
   "cell_type": "code",
   "execution_count": 1,
   "metadata": {},
   "outputs": [],
   "source": [
    "import pandas as pd\n",
    "import numpy as np\n",
    "import os"
   ]
  },
  {
   "cell_type": "code",
   "execution_count": 5,
   "metadata": {},
   "outputs": [
    {
     "name": "stderr",
     "output_type": "stream",
     "text": [
      "C:\\Users\\harsh\\AppData\\Local\\Temp\\ipykernel_13712\\730685491.py:1: DtypeWarning: Columns (3,4,5,6,12) have mixed types. Specify dtype option on import or set low_memory=False.\n",
      "  df = pd.read_csv(os.path.join(os.getcwd(), 'Data\\Salaries.csv'))\n"
     ]
    },
    {
     "data": {
      "text/html": [
       "<div>\n",
       "<style scoped>\n",
       "    .dataframe tbody tr th:only-of-type {\n",
       "        vertical-align: middle;\n",
       "    }\n",
       "\n",
       "    .dataframe tbody tr th {\n",
       "        vertical-align: top;\n",
       "    }\n",
       "\n",
       "    .dataframe thead th {\n",
       "        text-align: right;\n",
       "    }\n",
       "</style>\n",
       "<table border=\"1\" class=\"dataframe\">\n",
       "  <thead>\n",
       "    <tr style=\"text-align: right;\">\n",
       "      <th></th>\n",
       "      <th>Id</th>\n",
       "      <th>EmployeeName</th>\n",
       "      <th>JobTitle</th>\n",
       "      <th>BasePay</th>\n",
       "      <th>OvertimePay</th>\n",
       "      <th>OtherPay</th>\n",
       "      <th>Benefits</th>\n",
       "      <th>TotalPay</th>\n",
       "      <th>TotalPayBenefits</th>\n",
       "      <th>Year</th>\n",
       "      <th>Notes</th>\n",
       "      <th>Agency</th>\n",
       "      <th>Status</th>\n",
       "    </tr>\n",
       "  </thead>\n",
       "  <tbody>\n",
       "    <tr>\n",
       "      <th>0</th>\n",
       "      <td>1</td>\n",
       "      <td>NATHANIEL FORD</td>\n",
       "      <td>GENERAL MANAGER-METROPOLITAN TRANSIT AUTHORITY</td>\n",
       "      <td>167411.18</td>\n",
       "      <td>0.0</td>\n",
       "      <td>400184.25</td>\n",
       "      <td>NaN</td>\n",
       "      <td>567595.43</td>\n",
       "      <td>567595.43</td>\n",
       "      <td>2011</td>\n",
       "      <td>NaN</td>\n",
       "      <td>San Francisco</td>\n",
       "      <td>NaN</td>\n",
       "    </tr>\n",
       "    <tr>\n",
       "      <th>1</th>\n",
       "      <td>2</td>\n",
       "      <td>GARY JIMENEZ</td>\n",
       "      <td>CAPTAIN III (POLICE DEPARTMENT)</td>\n",
       "      <td>155966.02</td>\n",
       "      <td>245131.88</td>\n",
       "      <td>137811.38</td>\n",
       "      <td>NaN</td>\n",
       "      <td>538909.28</td>\n",
       "      <td>538909.28</td>\n",
       "      <td>2011</td>\n",
       "      <td>NaN</td>\n",
       "      <td>San Francisco</td>\n",
       "      <td>NaN</td>\n",
       "    </tr>\n",
       "    <tr>\n",
       "      <th>2</th>\n",
       "      <td>3</td>\n",
       "      <td>ALBERT PARDINI</td>\n",
       "      <td>CAPTAIN III (POLICE DEPARTMENT)</td>\n",
       "      <td>212739.13</td>\n",
       "      <td>106088.18</td>\n",
       "      <td>16452.6</td>\n",
       "      <td>NaN</td>\n",
       "      <td>335279.91</td>\n",
       "      <td>335279.91</td>\n",
       "      <td>2011</td>\n",
       "      <td>NaN</td>\n",
       "      <td>San Francisco</td>\n",
       "      <td>NaN</td>\n",
       "    </tr>\n",
       "    <tr>\n",
       "      <th>3</th>\n",
       "      <td>4</td>\n",
       "      <td>CHRISTOPHER CHONG</td>\n",
       "      <td>WIRE ROPE CABLE MAINTENANCE MECHANIC</td>\n",
       "      <td>77916.0</td>\n",
       "      <td>56120.71</td>\n",
       "      <td>198306.9</td>\n",
       "      <td>NaN</td>\n",
       "      <td>332343.61</td>\n",
       "      <td>332343.61</td>\n",
       "      <td>2011</td>\n",
       "      <td>NaN</td>\n",
       "      <td>San Francisco</td>\n",
       "      <td>NaN</td>\n",
       "    </tr>\n",
       "    <tr>\n",
       "      <th>4</th>\n",
       "      <td>5</td>\n",
       "      <td>PATRICK GARDNER</td>\n",
       "      <td>DEPUTY CHIEF OF DEPARTMENT,(FIRE DEPARTMENT)</td>\n",
       "      <td>134401.6</td>\n",
       "      <td>9737.0</td>\n",
       "      <td>182234.59</td>\n",
       "      <td>NaN</td>\n",
       "      <td>326373.19</td>\n",
       "      <td>326373.19</td>\n",
       "      <td>2011</td>\n",
       "      <td>NaN</td>\n",
       "      <td>San Francisco</td>\n",
       "      <td>NaN</td>\n",
       "    </tr>\n",
       "    <tr>\n",
       "      <th>...</th>\n",
       "      <td>...</td>\n",
       "      <td>...</td>\n",
       "      <td>...</td>\n",
       "      <td>...</td>\n",
       "      <td>...</td>\n",
       "      <td>...</td>\n",
       "      <td>...</td>\n",
       "      <td>...</td>\n",
       "      <td>...</td>\n",
       "      <td>...</td>\n",
       "      <td>...</td>\n",
       "      <td>...</td>\n",
       "      <td>...</td>\n",
       "    </tr>\n",
       "    <tr>\n",
       "      <th>148649</th>\n",
       "      <td>148650</td>\n",
       "      <td>Roy I Tillery</td>\n",
       "      <td>Custodian</td>\n",
       "      <td>0.00</td>\n",
       "      <td>0.00</td>\n",
       "      <td>0.00</td>\n",
       "      <td>0.00</td>\n",
       "      <td>0.00</td>\n",
       "      <td>0.00</td>\n",
       "      <td>2014</td>\n",
       "      <td>NaN</td>\n",
       "      <td>San Francisco</td>\n",
       "      <td>PT</td>\n",
       "    </tr>\n",
       "    <tr>\n",
       "      <th>148650</th>\n",
       "      <td>148651</td>\n",
       "      <td>Not provided</td>\n",
       "      <td>Not provided</td>\n",
       "      <td>Not Provided</td>\n",
       "      <td>Not Provided</td>\n",
       "      <td>Not Provided</td>\n",
       "      <td>Not Provided</td>\n",
       "      <td>0.00</td>\n",
       "      <td>0.00</td>\n",
       "      <td>2014</td>\n",
       "      <td>NaN</td>\n",
       "      <td>San Francisco</td>\n",
       "      <td>NaN</td>\n",
       "    </tr>\n",
       "    <tr>\n",
       "      <th>148651</th>\n",
       "      <td>148652</td>\n",
       "      <td>Not provided</td>\n",
       "      <td>Not provided</td>\n",
       "      <td>Not Provided</td>\n",
       "      <td>Not Provided</td>\n",
       "      <td>Not Provided</td>\n",
       "      <td>Not Provided</td>\n",
       "      <td>0.00</td>\n",
       "      <td>0.00</td>\n",
       "      <td>2014</td>\n",
       "      <td>NaN</td>\n",
       "      <td>San Francisco</td>\n",
       "      <td>NaN</td>\n",
       "    </tr>\n",
       "    <tr>\n",
       "      <th>148652</th>\n",
       "      <td>148653</td>\n",
       "      <td>Not provided</td>\n",
       "      <td>Not provided</td>\n",
       "      <td>Not Provided</td>\n",
       "      <td>Not Provided</td>\n",
       "      <td>Not Provided</td>\n",
       "      <td>Not Provided</td>\n",
       "      <td>0.00</td>\n",
       "      <td>0.00</td>\n",
       "      <td>2014</td>\n",
       "      <td>NaN</td>\n",
       "      <td>San Francisco</td>\n",
       "      <td>NaN</td>\n",
       "    </tr>\n",
       "    <tr>\n",
       "      <th>148653</th>\n",
       "      <td>148654</td>\n",
       "      <td>Joe Lopez</td>\n",
       "      <td>Counselor, Log Cabin Ranch</td>\n",
       "      <td>0.00</td>\n",
       "      <td>0.00</td>\n",
       "      <td>-618.13</td>\n",
       "      <td>0.00</td>\n",
       "      <td>-618.13</td>\n",
       "      <td>-618.13</td>\n",
       "      <td>2014</td>\n",
       "      <td>NaN</td>\n",
       "      <td>San Francisco</td>\n",
       "      <td>PT</td>\n",
       "    </tr>\n",
       "  </tbody>\n",
       "</table>\n",
       "<p>148654 rows × 13 columns</p>\n",
       "</div>"
      ],
      "text/plain": [
       "            Id       EmployeeName  \\\n",
       "0            1     NATHANIEL FORD   \n",
       "1            2       GARY JIMENEZ   \n",
       "2            3     ALBERT PARDINI   \n",
       "3            4  CHRISTOPHER CHONG   \n",
       "4            5    PATRICK GARDNER   \n",
       "...        ...                ...   \n",
       "148649  148650      Roy I Tillery   \n",
       "148650  148651       Not provided   \n",
       "148651  148652       Not provided   \n",
       "148652  148653       Not provided   \n",
       "148653  148654          Joe Lopez   \n",
       "\n",
       "                                              JobTitle       BasePay  \\\n",
       "0       GENERAL MANAGER-METROPOLITAN TRANSIT AUTHORITY     167411.18   \n",
       "1                      CAPTAIN III (POLICE DEPARTMENT)     155966.02   \n",
       "2                      CAPTAIN III (POLICE DEPARTMENT)     212739.13   \n",
       "3                 WIRE ROPE CABLE MAINTENANCE MECHANIC       77916.0   \n",
       "4         DEPUTY CHIEF OF DEPARTMENT,(FIRE DEPARTMENT)      134401.6   \n",
       "...                                                ...           ...   \n",
       "148649                                       Custodian          0.00   \n",
       "148650                                    Not provided  Not Provided   \n",
       "148651                                    Not provided  Not Provided   \n",
       "148652                                    Not provided  Not Provided   \n",
       "148653                      Counselor, Log Cabin Ranch          0.00   \n",
       "\n",
       "         OvertimePay      OtherPay      Benefits   TotalPay  TotalPayBenefits  \\\n",
       "0                0.0     400184.25           NaN  567595.43         567595.43   \n",
       "1          245131.88     137811.38           NaN  538909.28         538909.28   \n",
       "2          106088.18       16452.6           NaN  335279.91         335279.91   \n",
       "3           56120.71      198306.9           NaN  332343.61         332343.61   \n",
       "4             9737.0     182234.59           NaN  326373.19         326373.19   \n",
       "...              ...           ...           ...        ...               ...   \n",
       "148649          0.00          0.00          0.00       0.00              0.00   \n",
       "148650  Not Provided  Not Provided  Not Provided       0.00              0.00   \n",
       "148651  Not Provided  Not Provided  Not Provided       0.00              0.00   \n",
       "148652  Not Provided  Not Provided  Not Provided       0.00              0.00   \n",
       "148653          0.00       -618.13          0.00    -618.13           -618.13   \n",
       "\n",
       "        Year  Notes         Agency Status  \n",
       "0       2011    NaN  San Francisco    NaN  \n",
       "1       2011    NaN  San Francisco    NaN  \n",
       "2       2011    NaN  San Francisco    NaN  \n",
       "3       2011    NaN  San Francisco    NaN  \n",
       "4       2011    NaN  San Francisco    NaN  \n",
       "...      ...    ...            ...    ...  \n",
       "148649  2014    NaN  San Francisco     PT  \n",
       "148650  2014    NaN  San Francisco    NaN  \n",
       "148651  2014    NaN  San Francisco    NaN  \n",
       "148652  2014    NaN  San Francisco    NaN  \n",
       "148653  2014    NaN  San Francisco     PT  \n",
       "\n",
       "[148654 rows x 13 columns]"
      ]
     },
     "execution_count": 5,
     "metadata": {},
     "output_type": "execute_result"
    }
   ],
   "source": [
    "df = pd.read_csv(os.path.join(os.getcwd(), 'Data\\Salaries.csv'))\n",
    "df"
   ]
  },
  {
   "cell_type": "markdown",
   "metadata": {},
   "source": [
    "## Question 1: Find the number of rows and columns in the dataset."
   ]
  },
  {
   "cell_type": "code",
   "execution_count": 3,
   "metadata": {},
   "outputs": [
    {
     "name": "stdout",
     "output_type": "stream",
     "text": [
      "Total number of rows:  148654\n",
      "Total number of columns:  13\n"
     ]
    }
   ],
   "source": [
    "print('Total number of rows: ', len(df))\n",
    "print('Total number of columns: ', len(df.columns))"
   ]
  },
  {
   "cell_type": "markdown",
   "metadata": {},
   "source": [
    "## Question 2: Get the information about the dataset like total number of rows, data types of each columns and memory requirement."
   ]
  },
  {
   "cell_type": "code",
   "execution_count": 4,
   "metadata": {},
   "outputs": [
    {
     "name": "stdout",
     "output_type": "stream",
     "text": [
      "<class 'pandas.core.frame.DataFrame'>\n",
      "RangeIndex: 148654 entries, 0 to 148653\n",
      "Data columns (total 13 columns):\n",
      " #   Column            Non-Null Count   Dtype  \n",
      "---  ------            --------------   -----  \n",
      " 0   Id                148654 non-null  int64  \n",
      " 1   EmployeeName      148654 non-null  object \n",
      " 2   JobTitle          148654 non-null  object \n",
      " 3   BasePay           148049 non-null  object \n",
      " 4   OvertimePay       148654 non-null  object \n",
      " 5   OtherPay          148654 non-null  object \n",
      " 6   Benefits          112495 non-null  object \n",
      " 7   TotalPay          148654 non-null  float64\n",
      " 8   TotalPayBenefits  148654 non-null  float64\n",
      " 9   Year              148654 non-null  int64  \n",
      " 10  Notes             0 non-null       float64\n",
      " 11  Agency            148654 non-null  object \n",
      " 12  Status            38119 non-null   object \n",
      "dtypes: float64(3), int64(2), object(8)\n",
      "memory usage: 14.7+ MB\n"
     ]
    }
   ],
   "source": [
    "df.info()"
   ]
  },
  {
   "cell_type": "markdown",
   "metadata": {},
   "source": [
    "## Question 3: Check null values in the dataset."
   ]
  },
  {
   "cell_type": "code",
   "execution_count": 5,
   "metadata": {},
   "outputs": [
    {
     "data": {
      "text/plain": [
       "Id                       0\n",
       "EmployeeName             0\n",
       "JobTitle                 0\n",
       "BasePay                605\n",
       "OvertimePay              0\n",
       "OtherPay                 0\n",
       "Benefits             36159\n",
       "TotalPay                 0\n",
       "TotalPayBenefits         0\n",
       "Year                     0\n",
       "Notes               148654\n",
       "Agency                   0\n",
       "Status              110535\n",
       "dtype: int64"
      ]
     },
     "execution_count": 5,
     "metadata": {},
     "output_type": "execute_result"
    }
   ],
   "source": [
    "df.isnull().sum()"
   ]
  },
  {
   "cell_type": "markdown",
   "metadata": {},
   "source": [
    "## Question 4: Drop ID, Notes, Agency and Status columns."
   ]
  },
  {
   "cell_type": "code",
   "execution_count": 6,
   "metadata": {},
   "outputs": [],
   "source": [
    "df.drop(columns=['Id', 'Notes', 'Agency', 'Status'], axis=1, inplace=True)"
   ]
  },
  {
   "cell_type": "markdown",
   "metadata": {},
   "source": [
    "## Question 5: Get overall statistics about the dataset."
   ]
  },
  {
   "cell_type": "code",
   "execution_count": 7,
   "metadata": {},
   "outputs": [
    {
     "data": {
      "text/html": [
       "<div>\n",
       "<style scoped>\n",
       "    .dataframe tbody tr th:only-of-type {\n",
       "        vertical-align: middle;\n",
       "    }\n",
       "\n",
       "    .dataframe tbody tr th {\n",
       "        vertical-align: top;\n",
       "    }\n",
       "\n",
       "    .dataframe thead th {\n",
       "        text-align: right;\n",
       "    }\n",
       "</style>\n",
       "<table border=\"1\" class=\"dataframe\">\n",
       "  <thead>\n",
       "    <tr style=\"text-align: right;\">\n",
       "      <th></th>\n",
       "      <th>EmployeeName</th>\n",
       "      <th>JobTitle</th>\n",
       "      <th>BasePay</th>\n",
       "      <th>OvertimePay</th>\n",
       "      <th>OtherPay</th>\n",
       "      <th>Benefits</th>\n",
       "      <th>TotalPay</th>\n",
       "      <th>TotalPayBenefits</th>\n",
       "      <th>Year</th>\n",
       "    </tr>\n",
       "  </thead>\n",
       "  <tbody>\n",
       "    <tr>\n",
       "      <th>count</th>\n",
       "      <td>148654</td>\n",
       "      <td>148654</td>\n",
       "      <td>148049.0</td>\n",
       "      <td>148654.0</td>\n",
       "      <td>148654.0</td>\n",
       "      <td>112495.0</td>\n",
       "      <td>148654.000000</td>\n",
       "      <td>148654.000000</td>\n",
       "      <td>148654.000000</td>\n",
       "    </tr>\n",
       "    <tr>\n",
       "      <th>unique</th>\n",
       "      <td>110811</td>\n",
       "      <td>2159</td>\n",
       "      <td>109900.0</td>\n",
       "      <td>66555.0</td>\n",
       "      <td>84968.0</td>\n",
       "      <td>99635.0</td>\n",
       "      <td>NaN</td>\n",
       "      <td>NaN</td>\n",
       "      <td>NaN</td>\n",
       "    </tr>\n",
       "    <tr>\n",
       "      <th>top</th>\n",
       "      <td>Kevin Lee</td>\n",
       "      <td>Transit Operator</td>\n",
       "      <td>0.0</td>\n",
       "      <td>0.0</td>\n",
       "      <td>0.0</td>\n",
       "      <td>0.0</td>\n",
       "      <td>NaN</td>\n",
       "      <td>NaN</td>\n",
       "      <td>NaN</td>\n",
       "    </tr>\n",
       "    <tr>\n",
       "      <th>freq</th>\n",
       "      <td>13</td>\n",
       "      <td>7036</td>\n",
       "      <td>875.0</td>\n",
       "      <td>66103.0</td>\n",
       "      <td>35218.0</td>\n",
       "      <td>1053.0</td>\n",
       "      <td>NaN</td>\n",
       "      <td>NaN</td>\n",
       "      <td>NaN</td>\n",
       "    </tr>\n",
       "    <tr>\n",
       "      <th>mean</th>\n",
       "      <td>NaN</td>\n",
       "      <td>NaN</td>\n",
       "      <td>NaN</td>\n",
       "      <td>NaN</td>\n",
       "      <td>NaN</td>\n",
       "      <td>NaN</td>\n",
       "      <td>74768.321972</td>\n",
       "      <td>93692.554811</td>\n",
       "      <td>2012.522643</td>\n",
       "    </tr>\n",
       "    <tr>\n",
       "      <th>std</th>\n",
       "      <td>NaN</td>\n",
       "      <td>NaN</td>\n",
       "      <td>NaN</td>\n",
       "      <td>NaN</td>\n",
       "      <td>NaN</td>\n",
       "      <td>NaN</td>\n",
       "      <td>50517.005274</td>\n",
       "      <td>62793.533483</td>\n",
       "      <td>1.117538</td>\n",
       "    </tr>\n",
       "    <tr>\n",
       "      <th>min</th>\n",
       "      <td>NaN</td>\n",
       "      <td>NaN</td>\n",
       "      <td>NaN</td>\n",
       "      <td>NaN</td>\n",
       "      <td>NaN</td>\n",
       "      <td>NaN</td>\n",
       "      <td>-618.130000</td>\n",
       "      <td>-618.130000</td>\n",
       "      <td>2011.000000</td>\n",
       "    </tr>\n",
       "    <tr>\n",
       "      <th>25%</th>\n",
       "      <td>NaN</td>\n",
       "      <td>NaN</td>\n",
       "      <td>NaN</td>\n",
       "      <td>NaN</td>\n",
       "      <td>NaN</td>\n",
       "      <td>NaN</td>\n",
       "      <td>36168.995000</td>\n",
       "      <td>44065.650000</td>\n",
       "      <td>2012.000000</td>\n",
       "    </tr>\n",
       "    <tr>\n",
       "      <th>50%</th>\n",
       "      <td>NaN</td>\n",
       "      <td>NaN</td>\n",
       "      <td>NaN</td>\n",
       "      <td>NaN</td>\n",
       "      <td>NaN</td>\n",
       "      <td>NaN</td>\n",
       "      <td>71426.610000</td>\n",
       "      <td>92404.090000</td>\n",
       "      <td>2013.000000</td>\n",
       "    </tr>\n",
       "    <tr>\n",
       "      <th>75%</th>\n",
       "      <td>NaN</td>\n",
       "      <td>NaN</td>\n",
       "      <td>NaN</td>\n",
       "      <td>NaN</td>\n",
       "      <td>NaN</td>\n",
       "      <td>NaN</td>\n",
       "      <td>105839.135000</td>\n",
       "      <td>132876.450000</td>\n",
       "      <td>2014.000000</td>\n",
       "    </tr>\n",
       "    <tr>\n",
       "      <th>max</th>\n",
       "      <td>NaN</td>\n",
       "      <td>NaN</td>\n",
       "      <td>NaN</td>\n",
       "      <td>NaN</td>\n",
       "      <td>NaN</td>\n",
       "      <td>NaN</td>\n",
       "      <td>567595.430000</td>\n",
       "      <td>567595.430000</td>\n",
       "      <td>2014.000000</td>\n",
       "    </tr>\n",
       "  </tbody>\n",
       "</table>\n",
       "</div>"
      ],
      "text/plain": [
       "       EmployeeName          JobTitle   BasePay  OvertimePay  OtherPay  \\\n",
       "count        148654            148654  148049.0     148654.0  148654.0   \n",
       "unique       110811              2159  109900.0      66555.0   84968.0   \n",
       "top       Kevin Lee  Transit Operator       0.0          0.0       0.0   \n",
       "freq             13              7036     875.0      66103.0   35218.0   \n",
       "mean            NaN               NaN       NaN          NaN       NaN   \n",
       "std             NaN               NaN       NaN          NaN       NaN   \n",
       "min             NaN               NaN       NaN          NaN       NaN   \n",
       "25%             NaN               NaN       NaN          NaN       NaN   \n",
       "50%             NaN               NaN       NaN          NaN       NaN   \n",
       "75%             NaN               NaN       NaN          NaN       NaN   \n",
       "max             NaN               NaN       NaN          NaN       NaN   \n",
       "\n",
       "        Benefits       TotalPay  TotalPayBenefits           Year  \n",
       "count   112495.0  148654.000000     148654.000000  148654.000000  \n",
       "unique   99635.0            NaN               NaN            NaN  \n",
       "top          0.0            NaN               NaN            NaN  \n",
       "freq      1053.0            NaN               NaN            NaN  \n",
       "mean         NaN   74768.321972      93692.554811    2012.522643  \n",
       "std          NaN   50517.005274      62793.533483       1.117538  \n",
       "min          NaN    -618.130000       -618.130000    2011.000000  \n",
       "25%          NaN   36168.995000      44065.650000    2012.000000  \n",
       "50%          NaN   71426.610000      92404.090000    2013.000000  \n",
       "75%          NaN  105839.135000     132876.450000    2014.000000  \n",
       "max          NaN  567595.430000     567595.430000    2014.000000  "
      ]
     },
     "execution_count": 7,
     "metadata": {},
     "output_type": "execute_result"
    }
   ],
   "source": [
    "df.describe(include= 'all')"
   ]
  },
  {
   "cell_type": "markdown",
   "metadata": {},
   "source": [
    "## Question 6: Find occurence of the employee name (Top 5)."
   ]
  },
  {
   "cell_type": "code",
   "execution_count": 8,
   "metadata": {},
   "outputs": [
    {
     "data": {
      "text/plain": [
       "Kevin Lee       13\n",
       "Richard Lee     11\n",
       "Steven Lee      11\n",
       "William Wong    11\n",
       "Stanley Lee      9\n",
       "Name: EmployeeName, dtype: int64"
      ]
     },
     "execution_count": 8,
     "metadata": {},
     "output_type": "execute_result"
    }
   ],
   "source": [
    "df['EmployeeName'].value_counts().head()"
   ]
  },
  {
   "cell_type": "markdown",
   "metadata": {},
   "source": [
    "## Question 7: Find the number of unique job titles."
   ]
  },
  {
   "cell_type": "code",
   "execution_count": 9,
   "metadata": {},
   "outputs": [
    {
     "data": {
      "text/plain": [
       "2159"
      ]
     },
     "execution_count": 9,
     "metadata": {},
     "output_type": "execute_result"
    }
   ],
   "source": [
    "df['JobTitle'].nunique()"
   ]
  },
  {
   "cell_type": "markdown",
   "metadata": {},
   "source": [
    "## Question 8: Find the number of job titles contains 'Captain'."
   ]
  },
  {
   "cell_type": "code",
   "execution_count": 10,
   "metadata": {},
   "outputs": [
    {
     "data": {
      "text/plain": [
       "552"
      ]
     },
     "execution_count": 10,
     "metadata": {},
     "output_type": "execute_result"
    }
   ],
   "source": [
    "len(df[df['JobTitle'].str.contains('Captain',case = False)])"
   ]
  },
  {
   "cell_type": "markdown",
   "metadata": {},
   "source": [
    "## Question 9: Display all the employees from the fire department."
   ]
  },
  {
   "cell_type": "code",
   "execution_count": 11,
   "metadata": {},
   "outputs": [
    {
     "data": {
      "text/plain": [
       "4            PATRICK GARDNER\n",
       "6                  ALSON LEE\n",
       "8             MICHAEL MORRIS\n",
       "9         JOANNE HAYES-WHITE\n",
       "10             ARTHUR KENNEY\n",
       "                 ...        \n",
       "145956      Kenneth C Farris\n",
       "147556         Edward A Dunn\n",
       "148021        Kari A Johnson\n",
       "148209          Sheryl K Lee\n",
       "148554       Lawrence F Gatt\n",
       "Name: EmployeeName, Length: 5879, dtype: object"
      ]
     },
     "execution_count": 11,
     "metadata": {},
     "output_type": "execute_result"
    }
   ],
   "source": [
    "df[df['JobTitle'].str.contains('Fire', case=False)]['EmployeeName']"
   ]
  },
  {
   "cell_type": "markdown",
   "metadata": {},
   "source": [
    "## Question 10: Find the minimum, maximum and average Base Pay."
   ]
  },
  {
   "cell_type": "code",
   "execution_count": 12,
   "metadata": {},
   "outputs": [
    {
     "name": "stdout",
     "output_type": "stream",
     "text": [
      "The minimum base pay is:  -166.01\n",
      "The maximum base pay is:  319275.01\n",
      "The average base pay is:  66325.45\n"
     ]
    }
   ],
   "source": [
    "df['BasePay'] = pd.to_numeric(df['BasePay'], errors='coerce')\n",
    "\n",
    "print('The minimum base pay is: ', df['BasePay'].min())\n",
    "print('The maximum base pay is: ', df['BasePay'].max())\n",
    "print('The average base pay is: ', round(df['BasePay'].mean(),2))"
   ]
  },
  {
   "cell_type": "markdown",
   "metadata": {},
   "source": [
    "## Question 11: Replace 'Not provided' in EmployeeName to NaN."
   ]
  },
  {
   "cell_type": "code",
   "execution_count": 13,
   "metadata": {},
   "outputs": [
    {
     "data": {
      "text/plain": [
       "0            NATHANIEL FORD\n",
       "1              GARY JIMENEZ\n",
       "2            ALBERT PARDINI\n",
       "3         CHRISTOPHER CHONG\n",
       "4           PATRICK GARDNER\n",
       "                ...        \n",
       "148649        Roy I Tillery\n",
       "148650                  NaN\n",
       "148651                  NaN\n",
       "148652                  NaN\n",
       "148653            Joe Lopez\n",
       "Name: EmployeeName, Length: 148654, dtype: object"
      ]
     },
     "execution_count": 13,
     "metadata": {},
     "output_type": "execute_result"
    }
   ],
   "source": [
    "df['EmployeeName'] = df['EmployeeName'].replace('Not provided', np.nan)\n",
    "df['EmployeeName']"
   ]
  },
  {
   "cell_type": "markdown",
   "metadata": {},
   "source": [
    "## Question 12: Find the job title of ALBERT PARDINI."
   ]
  },
  {
   "cell_type": "code",
   "execution_count": 14,
   "metadata": {},
   "outputs": [
    {
     "name": "stdout",
     "output_type": "stream",
     "text": [
      "The job title of ALBERT PARDINI is: CAPTAIN III (POLICE DEPARTMENT)\n"
     ]
    }
   ],
   "source": [
    "emp_name = 'ALBERT PARDINI'\n",
    "print('The job title of', emp_name, 'is:', df[df['EmployeeName']==emp_name]['JobTitle'].values[0])"
   ]
  },
  {
   "cell_type": "markdown",
   "metadata": {},
   "source": [
    "## Question 13: How much ALBERT PARDINI make (including benefits)?"
   ]
  },
  {
   "cell_type": "code",
   "execution_count": 15,
   "metadata": {},
   "outputs": [
    {
     "name": "stdout",
     "output_type": "stream",
     "text": [
      "Total pay including benefits for ALBERT PARDINI : 335279.91\n"
     ]
    }
   ],
   "source": [
    "print('Total pay including benefits for',emp_name,':',df[df['EmployeeName']=='ALBERT PARDINI']['TotalPayBenefits'].values[0])"
   ]
  },
  {
   "cell_type": "markdown",
   "metadata": {},
   "source": [
    "## Question 14: Display name of the person having the highest Base Pay."
   ]
  },
  {
   "cell_type": "code",
   "execution_count": 16,
   "metadata": {},
   "outputs": [
    {
     "name": "stdout",
     "output_type": "stream",
     "text": [
      "Employee name with the highest base pay: Gregory P Suhr\n"
     ]
    }
   ],
   "source": [
    "print('Employee name with the highest base pay:',df[df['BasePay'].max()==df['BasePay']]['EmployeeName'].values[0])"
   ]
  },
  {
   "cell_type": "markdown",
   "metadata": {},
   "source": [
    "## Question 15: Find average base pay of all the employees per year."
   ]
  },
  {
   "cell_type": "code",
   "execution_count": 17,
   "metadata": {},
   "outputs": [
    {
     "data": {
      "text/plain": [
       "Year\n",
       "2011    63595.96\n",
       "2012    65436.41\n",
       "2013    69630.03\n",
       "2014    66564.42\n",
       "Name: BasePay, dtype: float64"
      ]
     },
     "execution_count": 17,
     "metadata": {},
     "output_type": "execute_result"
    }
   ],
   "source": [
    "df.groupby('Year')['BasePay'].mean().round(2)"
   ]
  },
  {
   "cell_type": "markdown",
   "metadata": {},
   "source": [
    "## Question 16: Find average base pay of all the employess per job title."
   ]
  },
  {
   "cell_type": "code",
   "execution_count": 18,
   "metadata": {},
   "outputs": [
    {
     "data": {
      "text/plain": [
       "JobTitle\n",
       "ACCOUNT CLERK                                     43300.81\n",
       "ACCOUNTANT                                        46643.17\n",
       "ACCOUNTANT INTERN                                 28732.66\n",
       "ACPO,JuvP, Juv Prob (SFERS)                       62290.78\n",
       "ACUPUNCTURIST                                     66374.40\n",
       "                                                    ...   \n",
       "X-RAY LABORATORY AIDE                             47664.77\n",
       "X-Ray Laboratory Aide                             46086.39\n",
       "YOUTH COMMISSION ADVISOR, BOARD OF SUPERVISORS    52609.91\n",
       "Youth Comm Advisor                                39077.96\n",
       "ZOO CURATOR                                       43148.00\n",
       "Name: BasePay, Length: 2159, dtype: float64"
      ]
     },
     "execution_count": 18,
     "metadata": {},
     "output_type": "execute_result"
    }
   ],
   "source": [
    "df.groupby('JobTitle')['BasePay'].mean().round(2)"
   ]
  },
  {
   "cell_type": "markdown",
   "metadata": {},
   "source": [
    "## Question 17: Find average base pay of employees having job title accountant."
   ]
  },
  {
   "cell_type": "code",
   "execution_count": 19,
   "metadata": {},
   "outputs": [
    {
     "data": {
      "text/plain": [
       "46643.17"
      ]
     },
     "execution_count": 19,
     "metadata": {},
     "output_type": "execute_result"
    }
   ],
   "source": [
    "df[df['JobTitle']== 'ACCOUNTANT']['BasePay'].mean().round(2)"
   ]
  },
  {
   "cell_type": "markdown",
   "metadata": {},
   "source": [
    "## Question 18: Find Top 5 most coommon jobs"
   ]
  },
  {
   "cell_type": "code",
   "execution_count": 20,
   "metadata": {},
   "outputs": [
    {
     "data": {
      "text/plain": [
       "Transit Operator                7036\n",
       "Special Nurse                   4389\n",
       "Registered Nurse                3736\n",
       "Public Svc Aide-Public Works    2518\n",
       "Police Officer 3                2421\n",
       "Name: JobTitle, dtype: int64"
      ]
     },
     "execution_count": 20,
     "metadata": {},
     "output_type": "execute_result"
    }
   ],
   "source": [
    "df['JobTitle'].value_counts().head()"
   ]
  }
 ],
 "metadata": {
  "kernelspec": {
   "display_name": "minimal_ds",
   "language": "python",
   "name": "python3"
  },
  "language_info": {
   "codemirror_mode": {
    "name": "ipython",
    "version": 3
   },
   "file_extension": ".py",
   "mimetype": "text/x-python",
   "name": "python",
   "nbconvert_exporter": "python",
   "pygments_lexer": "ipython3",
   "version": "3.10.12"
  },
  "orig_nbformat": 4
 },
 "nbformat": 4,
 "nbformat_minor": 2
}
